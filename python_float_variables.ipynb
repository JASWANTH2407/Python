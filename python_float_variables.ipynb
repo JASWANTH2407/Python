{
  "nbformat": 4,
  "nbformat_minor": 0,
  "metadata": {
    "colab": {
      "provenance": []
    },
    "kernelspec": {
      "name": "python3",
      "display_name": "Python 3"
    },
    "language_info": {
      "name": "python"
    }
  },
  "cells": [
    {
      "cell_type": "code",
      "source": [
        "# adding of decimals\n",
        "a = 65.7\n",
        "b = 34.8\n",
        "c = a+b\n",
        "print(c)"
      ],
      "metadata": {
        "id": "6klYyrNfsAnU",
        "colab": {
          "base_uri": "https://localhost:8080/"
        },
        "outputId": "43ec651e-0935-485e-bf70-1269bdd0ae28"
      },
      "execution_count": 1,
      "outputs": [
        {
          "output_type": "stream",
          "name": "stdout",
          "text": [
            "100.5\n"
          ]
        }
      ]
    },
    {
      "cell_type": "code",
      "source": [
        "# subtracting of decimals\n",
        "a = 54.8\n",
        "b = 77.9\n",
        "c = a-b\n",
        "print(c)"
      ],
      "metadata": {
        "colab": {
          "base_uri": "https://localhost:8080/"
        },
        "id": "U2WpBENgF5sh",
        "outputId": "33296ed6-0012-4003-9939-2bffaa91d4a1"
      },
      "execution_count": 2,
      "outputs": [
        {
          "output_type": "stream",
          "name": "stdout",
          "text": [
            "-23.10000000000001\n"
          ]
        }
      ]
    },
    {
      "cell_type": "code",
      "source": [
        "# multiplying of decimals\n",
        "a = 15.5\n",
        "b = 27.5\n",
        "c = a*b\n",
        "print(c)"
      ],
      "metadata": {
        "colab": {
          "base_uri": "https://localhost:8080/"
        },
        "id": "Q0j8wp4GGMUx",
        "outputId": "e582b560-e3d4-47c8-fd5e-707ad670bfd2"
      },
      "execution_count": 3,
      "outputs": [
        {
          "output_type": "stream",
          "name": "stdout",
          "text": [
            "426.25\n"
          ]
        }
      ]
    },
    {
      "cell_type": "code",
      "source": [
        "# dividing the decimals\n",
        "a = 136.25\n",
        "b = 118.36\n",
        "c = a/b\n",
        "print(c)"
      ],
      "metadata": {
        "colab": {
          "base_uri": "https://localhost:8080/"
        },
        "id": "Yww1ZXPdGgLd",
        "outputId": "2de406d5-0128-4bf0-cbad-d8db87624a79"
      },
      "execution_count": 4,
      "outputs": [
        {
          "output_type": "stream",
          "name": "stdout",
          "text": [
            "1.1511490368367692\n"
          ]
        }
      ]
    },
    {
      "cell_type": "code",
      "source": [
        "# power of decimals\n",
        "a = 17.45\n",
        "b = 13.86\n",
        "c = a**b\n",
        "print(c)"
      ],
      "metadata": {
        "colab": {
          "base_uri": "https://localhost:8080/"
        },
        "id": "k46IkI6yHDcJ",
        "outputId": "6db1bc3f-1a38-41d8-b9d8-bbf95f90c4db"
      },
      "execution_count": 5,
      "outputs": [
        {
          "output_type": "stream",
          "name": "stdout",
          "text": [
            "1.6266146437243686e+17\n"
          ]
        }
      ]
    },
    {
      "cell_type": "code",
      "source": [],
      "metadata": {
        "id": "0TNS9_kAHadG"
      },
      "execution_count": null,
      "outputs": []
    }
  ]
}