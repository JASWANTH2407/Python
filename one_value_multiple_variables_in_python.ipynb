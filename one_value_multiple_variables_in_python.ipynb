{
  "nbformat": 4,
  "nbformat_minor": 0,
  "metadata": {
    "colab": {
      "provenance": []
    },
    "kernelspec": {
      "name": "python3",
      "display_name": "Python 3"
    },
    "language_info": {
      "name": "python"
    }
  },
  "cells": [
    {
      "cell_type": "code",
      "source": [
        "# one value to multiple variables\n",
        "animal=movie=director = \"sandeepreddyvanga\"\n",
        "print(animal)\n",
        "print(movie)\n",
        "print(director)"
      ],
      "metadata": {
        "colab": {
          "base_uri": "https://localhost:8080/"
        },
        "id": "TyZIVVndhJcg",
        "outputId": "7be7c7c1-05b1-4898-e482-7bcf560e4e33"
      },
      "execution_count": 14,
      "outputs": [
        {
          "output_type": "stream",
          "name": "stdout",
          "text": [
            "sandeepreddyvanga\n",
            "sandeepreddyvanga\n",
            "sandeepreddyvanga\n"
          ]
        }
      ]
    },
    {
      "cell_type": "code",
      "source": [
        "# one value to multiple variables\n",
        "assignment=should=submit=by=tomorrow = \"python\"\n",
        "print(assignment)\n",
        "print(should)\n",
        "print(submit)\n",
        "print(by)\n",
        "print(tomorrow)"
      ],
      "metadata": {
        "colab": {
          "base_uri": "https://localhost:8080/"
        },
        "id": "OC61pYlPjU3d",
        "outputId": "2f8242d2-4aaf-4320-cd78-a96d83cdbd13"
      },
      "execution_count": 16,
      "outputs": [
        {
          "output_type": "stream",
          "name": "stdout",
          "text": [
            "python\n",
            "python\n",
            "python\n",
            "python\n",
            "python\n"
          ]
        }
      ]
    },
    {
      "cell_type": "code",
      "source": [
        "# one value to multiple variables\n",
        "best=music=director=at=present = \"anirudhravichandra\"\n",
        "print(best)\n",
        "print(music)\n",
        "print(director)\n",
        "print(at)\n",
        "print(present)"
      ],
      "metadata": {
        "colab": {
          "base_uri": "https://localhost:8080/"
        },
        "id": "L6fyxHqajwY6",
        "outputId": "f12cca5f-2a8d-4fed-87d8-5e5e32d24c21"
      },
      "execution_count": 17,
      "outputs": [
        {
          "output_type": "stream",
          "name": "stdout",
          "text": [
            "anirudhravichandra\n",
            "anirudhravichandra\n",
            "anirudhravichandra\n",
            "anirudhravichandra\n",
            "anirudhravichandra\n"
          ]
        }
      ]
    },
    {
      "cell_type": "code",
      "source": [
        "# one value to multiple variables\n",
        "oppenheimer=nominated=to=oscars = \"justnolanthings\"\n",
        "print(oppenheimer)\n",
        "print(nominated)\n",
        "print(to)\n",
        "print(oscars)"
      ],
      "metadata": {
        "colab": {
          "base_uri": "https://localhost:8080/"
        },
        "id": "4zX9_V7Hl56P",
        "outputId": "8db92b52-e5a1-43a4-c6fc-d1dda1cccd7c"
      },
      "execution_count": 18,
      "outputs": [
        {
          "output_type": "stream",
          "name": "stdout",
          "text": [
            "justnolanthings\n",
            "justnolanthings\n",
            "justnolanthings\n",
            "justnolanthings\n"
          ]
        }
      ]
    },
    {
      "cell_type": "code",
      "source": [
        "# using _ in one value to multiple variable\n",
        "_not=_a=_movie=_its=_an=_masterpiece = \"shutterisland\"\n",
        "print(_not)\n",
        "print(_a)\n",
        "print(_movie)\n",
        "print(_its)\n",
        "print(_an)\n",
        "print(_masterpiece)"
      ],
      "metadata": {
        "colab": {
          "base_uri": "https://localhost:8080/"
        },
        "id": "6OEWf05ImiwT",
        "outputId": "be7dc001-f5e3-42d3-e90c-1d4019b5f847"
      },
      "execution_count": 19,
      "outputs": [
        {
          "output_type": "stream",
          "name": "stdout",
          "text": [
            "shutterisland\n",
            "shutterisland\n",
            "shutterisland\n",
            "shutterisland\n",
            "shutterisland\n",
            "shutterisland\n"
          ]
        }
      ]
    },
    {
      "cell_type": "code",
      "source": [
        "# one value to multiple variables\n",
        "extract = meaningful = insights = forbusiness = \"data science\"\n",
        "print(extract)\n",
        "print(meaningful)\n",
        "print(insights)\n",
        "print(forbusiness)\n"
      ],
      "metadata": {
        "colab": {
          "base_uri": "https://localhost:8080/"
        },
        "id": "iqm7dSqtnepB",
        "outputId": "2ea0c479-48ae-445f-df00-b1f0c54f996a"
      },
      "execution_count": 21,
      "outputs": [
        {
          "output_type": "stream",
          "name": "stdout",
          "text": [
            "data science\n",
            "data science\n",
            "data science\n",
            "data science\n"
          ]
        }
      ]
    },
    {
      "cell_type": "code",
      "source": [],
      "metadata": {
        "id": "6klYyrNfsAnU"
      },
      "execution_count": null,
      "outputs": []
    }
  ]
}