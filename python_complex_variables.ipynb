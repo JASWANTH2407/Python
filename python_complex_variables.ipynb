{
  "nbformat": 4,
  "nbformat_minor": 0,
  "metadata": {
    "colab": {
      "provenance": []
    },
    "kernelspec": {
      "name": "python3",
      "display_name": "Python 3"
    },
    "language_info": {
      "name": "python"
    }
  },
  "cells": [
    {
      "cell_type": "code",
      "source": [
        "a = 4\n",
        "b = 8.6\n",
        "c= 12j\n",
        "print(type(a))\n",
        "print(type(b))\n",
        "print(type (c))\n"
      ],
      "metadata": {
        "colab": {
          "base_uri": "https://localhost:8080/"
        },
        "id": "0TNS9_kAHadG",
        "outputId": "7fcdb790-62a3-4797-b67d-aca9b1ef44e2"
      },
      "execution_count": 7,
      "outputs": [
        {
          "output_type": "stream",
          "name": "stdout",
          "text": [
            "<class 'int'>\n",
            "<class 'float'>\n",
            "<class 'complex'>\n"
          ]
        }
      ]
    },
    {
      "cell_type": "code",
      "source": [
        "d = 9\n",
        "e = 2.4\n",
        "f = 19j\n",
        "print(type(d))\n",
        "print(type(e))\n",
        "print(type(f))\n"
      ],
      "metadata": {
        "colab": {
          "base_uri": "https://localhost:8080/"
        },
        "id": "M860EprLLnQz",
        "outputId": "61d7e389-a86a-4a29-fc1d-077bce4c579e"
      },
      "execution_count": 8,
      "outputs": [
        {
          "output_type": "stream",
          "name": "stdout",
          "text": [
            "<class 'int'>\n",
            "<class 'float'>\n",
            "<class 'complex'>\n"
          ]
        }
      ]
    },
    {
      "cell_type": "code",
      "source": [
        "h = 45\n",
        "i = 6.9\n",
        "j = 9j\n",
        "print(type(h))\n",
        "print(type(i))\n",
        "print(type(j))"
      ],
      "metadata": {
        "colab": {
          "base_uri": "https://localhost:8080/"
        },
        "id": "ptqpkqbxMkLZ",
        "outputId": "85ec9a19-8aeb-47b0-c114-0e0414b594f9"
      },
      "execution_count": 9,
      "outputs": [
        {
          "output_type": "stream",
          "name": "stdout",
          "text": [
            "<class 'int'>\n",
            "<class 'float'>\n",
            "<class 'complex'>\n"
          ]
        }
      ]
    },
    {
      "cell_type": "code",
      "source": [
        "v = 21\n",
        "h = 9.4\n",
        "m = 21j\n",
        "print(type(v))\n",
        "print(type(h))\n",
        "print(type(m))"
      ],
      "metadata": {
        "colab": {
          "base_uri": "https://localhost:8080/"
        },
        "id": "Iib9IDgBNCTM",
        "outputId": "dd8fe41d-9350-467e-e63d-7d86058abab4"
      },
      "execution_count": 10,
      "outputs": [
        {
          "output_type": "stream",
          "name": "stdout",
          "text": [
            "<class 'int'>\n",
            "<class 'float'>\n",
            "<class 'complex'>\n"
          ]
        }
      ]
    },
    {
      "cell_type": "code",
      "source": [
        "s = 7\n",
        "r = 8.6\n",
        "n = 6j\n",
        "print(type(s))\n",
        "print(type(r))\n",
        "print(type(n))"
      ],
      "metadata": {
        "colab": {
          "base_uri": "https://localhost:8080/"
        },
        "id": "jdGwyD3ZNXXJ",
        "outputId": "55030f83-9e5c-4d43-8162-63aacffba9d3"
      },
      "execution_count": 11,
      "outputs": [
        {
          "output_type": "stream",
          "name": "stdout",
          "text": [
            "<class 'int'>\n",
            "<class 'float'>\n",
            "<class 'complex'>\n"
          ]
        }
      ]
    },
    {
      "cell_type": "code",
      "source": [],
      "metadata": {
        "id": "gMWS-WrsNwK-"
      },
      "execution_count": null,
      "outputs": []
    }
  ]
}