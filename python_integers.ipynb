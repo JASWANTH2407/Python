{
  "nbformat": 4,
  "nbformat_minor": 0,
  "metadata": {
    "colab": {
      "provenance": []
    },
    "kernelspec": {
      "name": "python3",
      "display_name": "Python 3"
    },
    "language_info": {
      "name": "python"
    }
  },
  "cells": [
    {
      "cell_type": "code",
      "execution_count": 4,
      "metadata": {
        "colab": {
          "base_uri": "https://localhost:8080/"
        },
        "id": "9Z6s-rPrzaln",
        "outputId": "72150467-33ef-49af-b43f-50546e649fff"
      },
      "outputs": [
        {
          "output_type": "stream",
          "name": "stdout",
          "text": [
            "143\n"
          ]
        }
      ],
      "source": [
        "#int\n",
        "#adding of numbers\n",
        "x = 91\n",
        "y = 22\n",
        "z = 30\n",
        "a = x+y+z\n",
        "print(a)\n"
      ]
    },
    {
      "cell_type": "code",
      "source": [
        "#int\n",
        "# subtraction of numbers\n",
        "x = 169\n",
        "y = 179\n",
        "z = x-y\n",
        "print(z)\n"
      ],
      "metadata": {
        "colab": {
          "base_uri": "https://localhost:8080/"
        },
        "id": "6jjQkNqi4n-A",
        "outputId": "445293b3-bc0b-4269-fc9d-ff5334974f5f"
      },
      "execution_count": 7,
      "outputs": [
        {
          "output_type": "stream",
          "name": "stdout",
          "text": [
            "-10\n"
          ]
        }
      ]
    },
    {
      "cell_type": "code",
      "source": [
        "#int\n",
        "# multiply of numbers\n",
        "y = 202\n",
        "z = 911\n",
        "x = y*z\n",
        "print(x)"
      ],
      "metadata": {
        "colab": {
          "base_uri": "https://localhost:8080/"
        },
        "id": "lxiSSv4A5hHX",
        "outputId": "618b379a-26f3-40c6-9be8-29444f0575ce"
      },
      "execution_count": 9,
      "outputs": [
        {
          "output_type": "stream",
          "name": "stdout",
          "text": [
            "184022\n"
          ]
        }
      ]
    },
    {
      "cell_type": "code",
      "source": [
        "#int\n",
        "# division of numbers\n",
        "c = 24\n",
        "d = 93\n",
        "b = c/d\n",
        "print(b)"
      ],
      "metadata": {
        "colab": {
          "base_uri": "https://localhost:8080/"
        },
        "id": "_UQlE_EK619S",
        "outputId": "36107bd1-bd97-4770-b7ad-185c4b92924a"
      },
      "execution_count": 10,
      "outputs": [
        {
          "output_type": "stream",
          "name": "stdout",
          "text": [
            "0.25806451612903225\n"
          ]
        }
      ]
    },
    {
      "cell_type": "code",
      "source": [
        "#int\n",
        "# power of integers\n",
        "c = 4\n",
        "d = 6\n",
        "b = c**d\n",
        "print(b)"
      ],
      "metadata": {
        "colab": {
          "base_uri": "https://localhost:8080/"
        },
        "id": "dJusK7Jb8xLk",
        "outputId": "015864e6-ca47-4cb5-c13d-ff09b85d9dbc"
      },
      "execution_count": 20,
      "outputs": [
        {
          "output_type": "stream",
          "name": "stdout",
          "text": [
            "4096\n"
          ]
        }
      ]
    },
    {
      "cell_type": "code",
      "source": [
        "#int\n",
        "# using addition subtraction multiplication division power\n",
        "# addition\n",
        "a = 69\n",
        "b = 96\n",
        "c = a+b\n",
        "print(a+b)\n",
        "\n",
        "# subtraction\n",
        "c = a-b\n",
        "print(c)\n",
        "\n",
        "# multiplication\n",
        "c = a*b\n",
        "print(c)\n",
        "\n",
        "# division\n",
        "a = b/c\n",
        "print(a)\n",
        "\n",
        "# power\n",
        "x = 8\n",
        "y = 6\n",
        "z = x**y\n",
        "print(z)\n"
      ],
      "metadata": {
        "colab": {
          "base_uri": "https://localhost:8080/"
        },
        "id": "88nQQiou7gJy",
        "outputId": "786ed0ec-1708-48f1-fbc8-467437e137c8"
      },
      "execution_count": 25,
      "outputs": [
        {
          "output_type": "stream",
          "name": "stdout",
          "text": [
            "165\n",
            "-27\n",
            "6624\n",
            "0.014492753623188406\n",
            "262144\n"
          ]
        }
      ]
    },
    {
      "cell_type": "code",
      "source": [],
      "metadata": {
        "id": "XtK3PNl-8TBP"
      },
      "execution_count": null,
      "outputs": []
    }
  ]
}