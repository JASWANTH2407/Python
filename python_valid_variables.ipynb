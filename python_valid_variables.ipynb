{
  "nbformat": 4,
  "nbformat_minor": 0,
  "metadata": {
    "colab": {
      "provenance": []
    },
    "kernelspec": {
      "name": "python3",
      "display_name": "Python 3"
    },
    "language_info": {
      "name": "python"
    }
  },
  "cells": [
    {
      "cell_type": "code",
      "execution_count": 1,
      "metadata": {
        "colab": {
          "base_uri": "https://localhost:8080/"
        },
        "id": "FH0dUmY328kq",
        "outputId": "fadd281f-1f85-4b4e-ea11-de19ea8ef042"
      },
      "outputs": [
        {
          "output_type": "stream",
          "name": "stdout",
          "text": [
            "911\n"
          ]
        }
      ],
      "source": [
        "# a valid variable\n",
        "Jaswanth = 911\n",
        "print(Jaswanth)\n"
      ]
    },
    {
      "cell_type": "code",
      "source": [
        "# variable using alpha numeric characters\n",
        "Travelling24 = \"i love exploring new places\"\n",
        "print(Travelling24)\n"
      ],
      "metadata": {
        "colab": {
          "base_uri": "https://localhost:8080/"
        },
        "id": "nd4Vy2KY3nBn",
        "outputId": "a2ed96c5-101f-4455-b797-0c985f454d0c"
      },
      "execution_count": 3,
      "outputs": [
        {
          "output_type": "stream",
          "name": "stdout",
          "text": [
            "i love exploring new places\n"
          ]
        }
      ]
    },
    {
      "cell_type": "code",
      "source": [
        "# variable using with underscore\n",
        "_Devin = \"it is an AI powered chatbot\"\n",
        "print(_Devin)\n"
      ],
      "metadata": {
        "colab": {
          "base_uri": "https://localhost:8080/"
        },
        "id": "uk9fpz-x6foq",
        "outputId": "71344453-0688-4102-deb4-8e09a377ce01"
      },
      "execution_count": 4,
      "outputs": [
        {
          "output_type": "stream",
          "name": "stdout",
          "text": [
            "it is an AI powered chatbot\n"
          ]
        }
      ]
    },
    {
      "cell_type": "code",
      "source": [
        "# variable using without underscore\n",
        "football= \"barcelona is the best football team\"\n",
        "print(football)\n"
      ],
      "metadata": {
        "colab": {
          "base_uri": "https://localhost:8080/"
        },
        "id": "DSAz_m817tzA",
        "outputId": "28f00e6d-1c64-4b77-cf65-054091c1c532"
      },
      "execution_count": 17,
      "outputs": [
        {
          "output_type": "stream",
          "name": "stdout",
          "text": [
            "barcelona is the best football team\n"
          ]
        }
      ]
    },
    {
      "cell_type": "code",
      "source": [
        "# variable using only alphabets\n",
        "college = \"my college having the best infra structure\"\n",
        "print(college)"
      ],
      "metadata": {
        "colab": {
          "base_uri": "https://localhost:8080/"
        },
        "id": "xsu89I_AFmiN",
        "outputId": "9188f9a1-f7c5-444b-e0f5-1453cffc98c7"
      },
      "execution_count": 25,
      "outputs": [
        {
          "output_type": "stream",
          "name": "stdout",
          "text": [
            "my college having the best infra structure\n"
          ]
        }
      ]
    },
    {
      "cell_type": "code",
      "source": [
        "# variable using underscore,numerical values\n",
        "Favourite_hero10 = \"mahesh babu\"\n",
        "print(Favourite_hero10)\n"
      ],
      "metadata": {
        "colab": {
          "base_uri": "https://localhost:8080/"
        },
        "id": "dF-uARKnGB7k",
        "outputId": "be6ab05d-e3e3-43cf-fa12-754259e95cbb"
      },
      "execution_count": 29,
      "outputs": [
        {
          "output_type": "stream",
          "name": "stdout",
          "text": [
            "mahesh babu\n"
          ]
        }
      ]
    },
    {
      "cell_type": "code",
      "source": [
        "# variable using underscore,alphabets\n",
        "_Rcb = \"lost the match yesterday\"\n",
        "Csk10 = \"won the match\"\n",
        "print(_Rcb,Csk10)\n",
        ""
      ],
      "metadata": {
        "colab": {
          "base_uri": "https://localhost:8080/"
        },
        "id": "J_9MmgQYGzNp",
        "outputId": "dcfbcd28-b89b-4bb1-8834-06f7b4b556e7"
      },
      "execution_count": 30,
      "outputs": [
        {
          "output_type": "stream",
          "name": "stdout",
          "text": [
            "lost the match yesterday won the match\n"
          ]
        }
      ]
    },
    {
      "cell_type": "code",
      "source": [
        "# variable using numericals,alphabets,underscore\n",
        "Nihith1 = \"lets plan for goa\"\n",
        "Rishi = \"lets plan for manali\"\n",
        "Hemanth_3 = \"what to decide\"\n",
        "print(Nihith1,Rishi,Hemanth_3)\n"
      ],
      "metadata": {
        "colab": {
          "base_uri": "https://localhost:8080/"
        },
        "id": "wQoVMWsHK5mu",
        "outputId": "e970d348-12c3-44bf-e73b-3db6eb64a281"
      },
      "execution_count": 37,
      "outputs": [
        {
          "output_type": "stream",
          "name": "stdout",
          "text": [
            "lets plan for goa lets plan for manali what to decide\n"
          ]
        }
      ]
    },
    {
      "cell_type": "code",
      "source": [
        "# variables using numbers\n",
        "birth24 = 72002\n",
        "print(birth24)\n"
      ],
      "metadata": {
        "colab": {
          "base_uri": "https://localhost:8080/"
        },
        "id": "YpriU1g9Mqdl",
        "outputId": "0f579f30-7cc9-46aa-ddc6-460370afb413"
      },
      "execution_count": 39,
      "outputs": [
        {
          "output_type": "stream",
          "name": "stdout",
          "text": [
            "72002\n"
          ]
        }
      ]
    },
    {
      "cell_type": "code",
      "source": [
        "# variables using underscore\n",
        "bhargav_ = \"always late to class\"\n",
        "print(bhargav_)\n"
      ],
      "metadata": {
        "colab": {
          "base_uri": "https://localhost:8080/"
        },
        "id": "sdxlWtyfOEOn",
        "outputId": "f6c6f96a-0f46-4300-f131-3f3537a827b0"
      },
      "execution_count": 42,
      "outputs": [
        {
          "output_type": "stream",
          "name": "stdout",
          "text": [
            "always late to class\n"
          ]
        }
      ]
    },
    {
      "cell_type": "code",
      "source": [],
      "metadata": {
        "id": "tw7zaK6gQQ1_"
      },
      "execution_count": null,
      "outputs": []
    }
  ]
}