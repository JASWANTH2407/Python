{
  "nbformat": 4,
  "nbformat_minor": 0,
  "metadata": {
    "colab": {
      "provenance": []
    },
    "kernelspec": {
      "name": "python3",
      "display_name": "Python 3"
    },
    "language_info": {
      "name": "python"
    }
  },
  "cells": [
    {
      "cell_type": "code",
      "execution_count": null,
      "metadata": {
        "id": "udEZ4VGSm_co"
      },
      "outputs": [],
      "source": [
        "# mutiple variables are of 2 types 1 into many or multi variables with multi values"
      ]
    },
    {
      "cell_type": "code",
      "source": [
        "# multiple variable & multiple values\n",
        "x,y,z = \"rishi\",\"hemu\",\"nihith\"\n",
        "print(x)\n",
        "print(y)\n",
        "print(z)"
      ],
      "metadata": {
        "colab": {
          "base_uri": "https://localhost:8080/"
        },
        "id": "I01OlrjYgPCp",
        "outputId": "8fc4f338-7f1f-4412-d9b2-134c1c2a47ef"
      },
      "execution_count": 1,
      "outputs": [
        {
          "output_type": "stream",
          "name": "stdout",
          "text": [
            "rishi\n",
            "hemu\n",
            "nihith\n"
          ]
        }
      ]
    },
    {
      "cell_type": "code",
      "source": [
        "# multiple variables using alphabets and  numbers\n",
        "a,b,c = \"993\",\"300\",'400'\n",
        "print(a)\n",
        "print(b)\n",
        "print(c)\n"
      ],
      "metadata": {
        "colab": {
          "base_uri": "https://localhost:8080/"
        },
        "id": "tsLUJv5dhI4J",
        "outputId": "11e322cd-8d03-4f2e-e854-5b2b6f6242ab"
      },
      "execution_count": 2,
      "outputs": [
        {
          "output_type": "stream",
          "name": "stdout",
          "text": [
            "993\n",
            "300\n",
            "400\n"
          ]
        }
      ]
    },
    {
      "cell_type": "code",
      "source": [
        "# multiple variables\n",
        "farmhouse, families, outing = \"celebrated\",\"holi\",\"with family\"\n",
        "print(farmhouse)\n",
        "print(families)\n",
        "print(outing)\n",
        "\n"
      ],
      "metadata": {
        "colab": {
          "base_uri": "https://localhost:8080/"
        },
        "id": "MQCCWRHZh43_",
        "outputId": "dbc22655-597a-4af2-e7ab-2a4b8ed33977"
      },
      "execution_count": 3,
      "outputs": [
        {
          "output_type": "stream",
          "name": "stdout",
          "text": [
            "celebrated\n",
            "holi\n",
            "with family\n"
          ]
        }
      ]
    },
    {
      "cell_type": "code",
      "source": [
        "# mutiple variables\n",
        "sunburn, alanewalker, hyderabad = \"alanewalker\", \"event\", \"in hyderabad\"\n",
        "print(sunburn)\n",
        "print(alanewalker)\n",
        "print(hyderabad)"
      ],
      "metadata": {
        "colab": {
          "base_uri": "https://localhost:8080/"
        },
        "id": "w4c4og-3jChO",
        "outputId": "a794c490-360b-4e9d-9cf5-b4cd7ae86ade"
      },
      "execution_count": 6,
      "outputs": [
        {
          "output_type": "stream",
          "name": "stdout",
          "text": [
            "alanewalker\n",
            "event\n",
            "in hyderabad\n"
          ]
        }
      ]
    },
    {
      "cell_type": "code",
      "source": [
        "\n",
        "# multiple variables\n",
        "temperature , sun , heat = \"summer\", \"has\", \"started\"\n",
        "print(temperature)\n",
        "print(sun)\n",
        "print(heat)\n"
      ],
      "metadata": {
        "colab": {
          "base_uri": "https://localhost:8080/"
        },
        "id": "xM9kmX3Kjg8W",
        "outputId": "3f527283-d2b3-4b82-8630-b96281d71fe4"
      },
      "execution_count": 8,
      "outputs": [
        {
          "output_type": "stream",
          "name": "stdout",
          "text": [
            "summer\n",
            "has\n",
            "started\n"
          ]
        }
      ]
    },
    {
      "cell_type": "code",
      "source": [],
      "metadata": {
        "id": "FONU7EPSktMk"
      },
      "execution_count": null,
      "outputs": []
    }
  ]
}