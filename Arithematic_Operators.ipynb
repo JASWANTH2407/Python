{
  "nbformat": 4,
  "nbformat_minor": 0,
  "metadata": {
    "colab": {
      "provenance": []
    },
    "kernelspec": {
      "name": "python3",
      "display_name": "Python 3"
    },
    "language_info": {
      "name": "python"
    }
  },
  "cells": [
    {
      "cell_type": "code",
      "source": [
        "#Arithematic operators\n",
        "\n",
        "#arithmetic operators are symbols that perform mathematical operations on numbers\n",
        "\n",
        "#these are the arithmetic operators :\n",
        "\n",
        "# Addition\n",
        "# Subtraction\n",
        "# Multiplication\n",
        "# Division\n",
        "# Floor division\n",
        "# Exponential\n",
        "\n",
        "a = 9\n",
        "b = 24\n",
        "\n",
        "#Addition\n",
        "c = a+b\n",
        "print(c)\n",
        "\n",
        "#Subtraction\n",
        "d = a-b\n",
        "print(d)\n",
        "\n",
        "#Multiplication\n",
        "e = a*b\n",
        "print(e)\n",
        "\n",
        "#Division\n",
        "f = a/b\n",
        "print(f)\n",
        "\n",
        "#Floor division\n",
        "g = a//b\n",
        "print(g)\n",
        "\n",
        "#Exponential\n",
        "h = a**b\n",
        "print(h)"
      ],
      "metadata": {
        "colab": {
          "base_uri": "https://localhost:8080/"
        },
        "id": "PS3fMkCkxvKa",
        "outputId": "00895255-7130-4e8b-e2cf-28c764ada67c"
      },
      "execution_count": 6,
      "outputs": [
        {
          "output_type": "stream",
          "name": "stdout",
          "text": [
            "33\n",
            "-15\n",
            "216\n",
            "0.375\n",
            "0\n",
            "79766443076872509863361\n"
          ]
        }
      ]
    },
    {
      "cell_type": "code",
      "source": [
        "\n"
      ],
      "metadata": {
        "id": "r9aFtt0u0egM"
      },
      "execution_count": null,
      "outputs": []
    }
  ]
}