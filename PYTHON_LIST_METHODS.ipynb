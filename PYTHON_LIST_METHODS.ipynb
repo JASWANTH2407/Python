{
  "nbformat": 4,
  "nbformat_minor": 0,
  "metadata": {
    "colab": {
      "provenance": []
    },
    "kernelspec": {
      "name": "python3",
      "display_name": "Python 3"
    },
    "language_info": {
      "name": "python"
    }
  },
  "cells": [
    {
      "cell_type": "markdown",
      "source": [
        "INDEX OF LISTS\n",
        "\n",
        "THERE ARE 2 TYPES :\n",
        "\n",
        "POSITIVE INDEX\n",
        "\n",
        "NEGATIVE INDEX\n",
        "\n",
        "positive index\n",
        "\n",
        "A positive index is a numerical value that is used to access elements in a sequence\n",
        "\n",
        "the index 0 refers to the first element in the container, 1 refers to the second element, and so on\n",
        "\n",
        "In python positive index starts from left to right\n",
        "\n"
      ],
      "metadata": {
        "id": "qvYnEVq2q354"
      }
    },
    {
      "cell_type": "code",
      "source": [
        "\n",
        "\n",
        "# positive index\n",
        "\n",
        "#A positive index is a numerical value that is used to access elements in a sequence\n",
        "\n",
        "#the index 0 refers to the first element in the container, 1 refers to the second element, and so on\n",
        "\n",
        "#In python positive index starts from left to right\n",
        "\n",
        "areas = [\"Manikonda\",\"kismatpur\",\"gachibowli\",\"madhapur\",\"jubliee hills\"]\n",
        "             #0          1           2           3            4\n",
        "areas[2]= \"banjara hills\"\n",
        "areas[3]= \"financial district\"\n",
        "print(areas)"
      ],
      "metadata": {
        "colab": {
          "base_uri": "https://localhost:8080/"
        },
        "id": "YpeO1K2vh2Un",
        "outputId": "f9467358-75a6-439c-dc6a-2b87c2931b73"
      },
      "execution_count": null,
      "outputs": [
        {
          "output_type": "stream",
          "name": "stdout",
          "text": [
            "['Manikonda', 'kismatpur', 'banjara hills', 'financial district', 'jubliee hills']\n"
          ]
        }
      ]
    },
    {
      "cell_type": "code",
      "source": [
        "restaurants = [\"shah ghouse\", \"pista house\", \"telangana spice\", \"cloud dining\", \"plaform 65\"]\n",
        "restaurants[1] = \"jewel of nizam\"\n",
        "restaurants[3] = \"the water front\"\n",
        "print(restaurants)"
      ],
      "metadata": {
        "colab": {
          "base_uri": "https://localhost:8080/"
        },
        "id": "VAzBTLf7k31J",
        "outputId": "e506a451-d704-42a5-cd87-1b46573ec97c"
      },
      "execution_count": null,
      "outputs": [
        {
          "output_type": "stream",
          "name": "stdout",
          "text": [
            "['shah ghouse', 'jewel of nizam', 'telangana spice', 'the water front', 'plaform 65']\n"
          ]
        }
      ]
    },
    {
      "cell_type": "code",
      "source": [
        "cars = [\"mercedes\",\"mini cooper\",\"lexus\",\"range rover\"]\n",
        "cars[1]= \"lexus\"\n",
        "cars[2]= \"mini cooper\"\n",
        "print(cars)"
      ],
      "metadata": {
        "colab": {
          "base_uri": "https://localhost:8080/"
        },
        "id": "MiQjzh0GrCMv",
        "outputId": "846e4ecc-4c25-4a11-908e-fc39c5fcbef3"
      },
      "execution_count": null,
      "outputs": [
        {
          "output_type": "stream",
          "name": "stdout",
          "text": [
            "['mercedes', 'lexus', 'mini cooper', 'range rover']\n"
          ]
        }
      ]
    },
    {
      "cell_type": "code",
      "source": [
        "courses= [\"salesforce\",\"artificial intelligence\",\"data science\",\"data analyst\",\"power bi\"]\n",
        "courses[1]= \"salesforce\"\n",
        "courses[4]= \"azure\"\n",
        "print(courses)"
      ],
      "metadata": {
        "colab": {
          "base_uri": "https://localhost:8080/"
        },
        "id": "pmW1YIrtrUg2",
        "outputId": "383fa715-7dd1-4c15-bf0a-0c90148c1b90"
      },
      "execution_count": null,
      "outputs": [
        {
          "output_type": "stream",
          "name": "stdout",
          "text": [
            "['salesforce', 'salesforce', 'data science', 'data analyst', 'azure']\n"
          ]
        }
      ]
    },
    {
      "cell_type": "code",
      "source": [
        "numbers = [7,90,30,45,60]\n",
        "numbers[2] = 9\n",
        "numbers[4] = 24\n",
        "print(numbers)"
      ],
      "metadata": {
        "colab": {
          "base_uri": "https://localhost:8080/"
        },
        "id": "FiNpiTIIr1lT",
        "outputId": "0d537f18-4d93-4fc8-d7ff-22817785d8c3"
      },
      "execution_count": null,
      "outputs": [
        {
          "output_type": "stream",
          "name": "stdout",
          "text": [
            "[7, 90, 9, 45, 24]\n"
          ]
        }
      ]
    },
    {
      "cell_type": "code",
      "source": [
        "# negative index\n",
        "\n",
        "# that allows you to access elements in a container starting from the end of the container, using negative integers as index values\n",
        "\n",
        "# the index -1 refers to the last element in the container, -2 refers to the second last element, and so on\n",
        "\n",
        "# python negative index starts from right to left\n",
        "\n",
        "numbers = [-1,-2,-3,-4,-5]\n",
        "numbers[-4] = -9\n",
        "numbers[-1] = -24\n",
        "print(numbers)"
      ],
      "metadata": {
        "id": "9t5FmiQGt7vO",
        "colab": {
          "base_uri": "https://localhost:8080/"
        },
        "outputId": "bedeb814-4d85-442c-b146-9f1ef4232c67"
      },
      "execution_count": null,
      "outputs": [
        {
          "output_type": "stream",
          "name": "stdout",
          "text": [
            "[-1, -9, -3, -4, -24]\n"
          ]
        }
      ]
    },
    {
      "cell_type": "code",
      "source": [
        "jobs = [\"software\", \"marketing\",\"teaching\",\"doctor\",\"lawyer\"]\n",
        "jobs[-2] = \"business\"\n",
        "jobs[-4] = \"cyber police\"\n",
        "print(jobs)"
      ],
      "metadata": {
        "colab": {
          "base_uri": "https://localhost:8080/"
        },
        "id": "hWA9HG30A0-t",
        "outputId": "a6f739d8-0f1c-4160-869b-2744da8ae228"
      },
      "execution_count": null,
      "outputs": [
        {
          "output_type": "stream",
          "name": "stdout",
          "text": [
            "['software', 'cyber police', 'teaching', 'business', 'lawyer']\n"
          ]
        }
      ]
    },
    {
      "cell_type": "code",
      "source": [
        "#slicing list\n",
        "\n",
        "#list by using indexing with a colon : to access a specific range of elements in the list\n",
        "\n",
        "datatypes = [\"list\",\"tuple\",\"string\",\"dictionary\",\"set\"]\n",
        "print(datatypes[0:3])\n",
        "\n",
        "print(datatypes[1:4])\n",
        "\n",
        "print(datatypes [2:])\n",
        "\n",
        "print(datatypes[:3])"
      ],
      "metadata": {
        "colab": {
          "base_uri": "https://localhost:8080/"
        },
        "id": "9xkpoTolHIOq",
        "outputId": "90349589-083e-4190-feb3-9e61acec023f"
      },
      "execution_count": null,
      "outputs": [
        {
          "output_type": "stream",
          "name": "stdout",
          "text": [
            "['list', 'tuple', 'string']\n",
            "['tuple', 'string', 'dictionary']\n",
            "['string', 'dictionary', 'set']\n",
            "['list', 'tuple', 'string']\n"
          ]
        }
      ]
    },
    {
      "cell_type": "markdown",
      "source": [
        "##LIST OPERATORS\n",
        "\n",
        "THERE ARE 2 TYPES\n",
        "\n",
        "CONCATATION\n",
        "\n",
        "REPITATION"
      ],
      "metadata": {
        "id": "qT7IDsRVyVMf"
      }
    },
    {
      "cell_type": "code",
      "source": [
        "#CONCATATION\n",
        "places = [\"mussoorie\",\"chennai\",\"nashik\",\"kerala\",\"gokarna\",\"ooty\"]\n",
        "names = [\"hemu\",\"nihith\",\"raga\",\"ritu\",\"deekshi\",\"rishi\",\"ruttu\"]\n",
        "cafes = [\"anthera\",\"zero 40\",\"prism\",\"airlive\",\"glass onion\",\"fat pigeon\",\"lal street\",\"skyhy\"]\n",
        "\n",
        "print(places+names)\n",
        "print(places+names+cafes)\n",
        "print(names[0:4]+cafes[2:4])\n",
        "print(places[1:3]+cafes)\n",
        "print(names[0:7],places[:3],cafes[:])\n",
        "\n",
        "#REPITITION\n",
        "\n",
        "print(places*2)\n",
        "print(names[0:6]*3)\n",
        "print(places*1,cafes[1:6],names*2)"
      ],
      "metadata": {
        "colab": {
          "base_uri": "https://localhost:8080/"
        },
        "id": "BNxDrsi-yaPI",
        "outputId": "78d01ede-cb4f-4af6-89d5-db0e140be25f"
      },
      "execution_count": 28,
      "outputs": [
        {
          "output_type": "stream",
          "name": "stdout",
          "text": [
            "['mussoorie', 'chennai', 'nashik', 'kerala', 'gokarna', 'ooty', 'hemu', 'nihith', 'raga', 'ritu', 'deekshi', 'rishi', 'ruttu']\n",
            "['mussoorie', 'chennai', 'nashik', 'kerala', 'gokarna', 'ooty', 'hemu', 'nihith', 'raga', 'ritu', 'deekshi', 'rishi', 'ruttu', 'anthera', 'zero 40', 'prism', 'airlive', 'glass onion', 'fat pigeon', 'lal street', 'skyhy']\n",
            "['hemu', 'nihith', 'raga', 'ritu', 'prism', 'airlive']\n",
            "['chennai', 'nashik', 'anthera', 'zero 40', 'prism', 'airlive', 'glass onion', 'fat pigeon', 'lal street', 'skyhy']\n",
            "['hemu', 'nihith', 'raga', 'ritu', 'deekshi', 'rishi', 'ruttu'] ['mussoorie', 'chennai', 'nashik'] ['anthera', 'zero 40', 'prism', 'airlive', 'glass onion', 'fat pigeon', 'lal street', 'skyhy']\n",
            "['mussoorie', 'chennai', 'nashik', 'kerala', 'gokarna', 'ooty', 'mussoorie', 'chennai', 'nashik', 'kerala', 'gokarna', 'ooty']\n",
            "['hemu', 'nihith', 'raga', 'ritu', 'deekshi', 'rishi', 'hemu', 'nihith', 'raga', 'ritu', 'deekshi', 'rishi', 'hemu', 'nihith', 'raga', 'ritu', 'deekshi', 'rishi']\n",
            "['mussoorie', 'chennai', 'nashik', 'kerala', 'gokarna', 'ooty'] ['zero 40', 'prism', 'airlive', 'glass onion', 'fat pigeon'] ['hemu', 'nihith', 'raga', 'ritu', 'deekshi', 'rishi', 'ruttu', 'hemu', 'nihith', 'raga', 'ritu', 'deekshi', 'rishi', 'ruttu']\n"
          ]
        }
      ]
    },
    {
      "cell_type": "markdown",
      "source": [],
      "metadata": {
        "id": "waHe6ui8--YG"
      }
    },
    {
      "cell_type": "code",
      "source": [],
      "metadata": {
        "id": "IbfNAeL99SYX"
      },
      "execution_count": null,
      "outputs": []
    },
    {
      "cell_type": "markdown",
      "source": [
        "## LIST METHODS\n",
        "\n"
      ],
      "metadata": {
        "id": "HbCvMpmjHNpD"
      }
    },
    {
      "cell_type": "code",
      "source": [
        "#APPEND\n",
        "\n",
        "numbers = [34,45,67,97,9]\n",
        "fruits = [\"water melon\",\"litchi\",\"mango\"]\n",
        "animals = [\"lion\",\"tiger\",\"cheetah\"]\n",
        "cars = [\"Lamborghini\",\"mini cooper\",\"mercedes\",\"lexus\"]\n",
        "business = [\"food\",\"realestate\",\"education\"]\n",
        "\n",
        "numbers.append(24)\n",
        "fruits.append(2)\n",
        "animals.append(3)\n",
        "cars.append(4)\n",
        "business.append(\"moneyminded\")\n",
        "\n",
        "print(numbers)\n",
        "print(fruits)\n",
        "print(animals)\n",
        "print(cars)\n",
        "print(business)"
      ],
      "metadata": {
        "colab": {
          "base_uri": "https://localhost:8080/"
        },
        "id": "C5UCyaRy8NlP",
        "outputId": "2105f725-29ec-408c-823e-0f75403f98b4"
      },
      "execution_count": null,
      "outputs": [
        {
          "output_type": "stream",
          "name": "stdout",
          "text": [
            "[34, 45, 67, 97, 9, 24]\n",
            "['water melon', 'litchi', 'mango', 2]\n",
            "['lion', 'tiger', 'cheetah', 3]\n",
            "['Lamborghini', 'mini cooper', 'mercedes', 'lexus', 4]\n",
            "['food', 'realestate', 'education', 'moneyminded']\n"
          ]
        }
      ]
    },
    {
      "cell_type": "code",
      "source": [
        "# EXTEND\n",
        "\n",
        "numbers = [34,45,67,97,9]\n",
        "fruits = [\"water melon\",\"litchi\",\"mango\"]\n",
        "animals = [\"lion\",\"tiger\",\"cheetah\"]\n",
        "cars = [\"Lamborghini\",\"mini cooper\",\"mercedes\",\"lexus\"]\n",
        "business = [\"food\",\"realestate\",\"education\"]\n",
        "\n",
        "numbers.extend(fruits)\n",
        "fruits.extend(numbers)\n",
        "animals.extend(cars)\n",
        "cars.extend(business)\n",
        "business.extend(animals)\n",
        "\n",
        "print(numbers)\n",
        "print(fruits)\n",
        "print(animals)\n",
        "print(cars)\n",
        "print(business)"
      ],
      "metadata": {
        "id": "sZnmmB8sExtx",
        "colab": {
          "base_uri": "https://localhost:8080/"
        },
        "outputId": "471970c2-b036-4f00-eb9a-7f058a08d263"
      },
      "execution_count": null,
      "outputs": [
        {
          "output_type": "stream",
          "name": "stdout",
          "text": [
            "[34, 45, 67, 97, 9, 'water melon', 'litchi', 'mango']\n",
            "['water melon', 'litchi', 'mango', 34, 45, 67, 97, 9, 'water melon', 'litchi', 'mango']\n",
            "['lion', 'tiger', 'cheetah', 'Lamborghini', 'mini cooper', 'mercedes', 'lexus']\n",
            "['Lamborghini', 'mini cooper', 'mercedes', 'lexus', 'food', 'realestate', 'education']\n",
            "['food', 'realestate', 'education', 'lion', 'tiger', 'cheetah', 'Lamborghini', 'mini cooper', 'mercedes', 'lexus']\n"
          ]
        }
      ]
    },
    {
      "cell_type": "code",
      "source": [
        "# INSERT\n",
        "\n",
        "numbers = [69,34,45,67,97,9]\n",
        "fruits = [\"water melon\",\"litchi\",\"mango\",\"grapes\",\"dragon fruit\",\"green apple\"]\n",
        "animals = [\"lion\",\"tiger\",\"cheetah\",\"leopord\"]\n",
        "cars = [\"Lamborghini\",\"mini cooper\",\"mercedes\",\"lexus\",\"bmw\",\"audi\"]\n",
        "business = [\"food\",\"realestate\",\"education\",\"transporting\",\"clothing\",\"appliances\"]\n",
        "\n",
        "numbers.insert(0,24)\n",
        "fruits.insert(5,\"papaya\")\n",
        "animals.insert(3,\"fox\")\n",
        "cars.insert(4,\"toyota\")\n",
        "business.insert(3,\"exporting&importing\")\n",
        "\n",
        "print(numbers)\n",
        "print(fruits)\n",
        "print(animals)\n",
        "print(cars)\n",
        "print(business)"
      ],
      "metadata": {
        "colab": {
          "base_uri": "https://localhost:8080/"
        },
        "id": "MUtOvJFhWGBt",
        "outputId": "9cd10563-d03a-448d-e7ba-07ddcc2c909f"
      },
      "execution_count": null,
      "outputs": [
        {
          "output_type": "stream",
          "name": "stdout",
          "text": [
            "[24, 69, 34, 45, 67, 97, 9]\n",
            "['water melon', 'litchi', 'mango', 'grapes', 'dragon fruit', 'papaya', 'green apple']\n",
            "['lion', 'tiger', 'cheetah', 'fox', 'leopord']\n",
            "['Lamborghini', 'mini cooper', 'mercedes', 'lexus', 'toyota', 'bmw', 'audi']\n",
            "['food', 'realestate', 'education', 'exporting&importing', 'transporting', 'clothing', 'appliances']\n"
          ]
        }
      ]
    },
    {
      "cell_type": "code",
      "source": [
        "#REMOVE\n",
        "\n",
        "numbers = [69,34,45,67,97,9]\n",
        "fruits = [\"water melon\",\"litchi\",\"mango\",\"grapes\",\"dragon fruit\",\"green apple\"]\n",
        "animals = [\"lion\",\"tiger\",\"cheetah\",\"leopord\"]\n",
        "cars = [\"Lamborghini\",\"mini cooper\",\"mercedes\",\"lexus\",\"bmw\",\"audi\"]\n",
        "business = [\"food\",\"realestate\",\"education\",\"transporting\",\"clothing\",\"appliances\"]\n",
        "\n",
        "numbers.remove(69)\n",
        "fruits.remove(\"green apple\")\n",
        "animals.remove(\"cheetah\")\n",
        "cars.remove(\"bmw\")\n",
        "business.remove(\"clothing\")\n",
        "\n",
        "\n",
        "print(numbers)\n",
        "print(fruits)\n",
        "print(animals)\n",
        "print(cars)\n",
        "print(business)"
      ],
      "metadata": {
        "colab": {
          "base_uri": "https://localhost:8080/"
        },
        "id": "26TGeZB8Y4Mm",
        "outputId": "a6e3b3aa-497b-4477-e6f5-32bc30527e32"
      },
      "execution_count": null,
      "outputs": [
        {
          "output_type": "stream",
          "name": "stdout",
          "text": [
            "[34, 45, 67, 97, 9]\n",
            "['water melon', 'litchi', 'mango', 'grapes', 'dragon fruit']\n",
            "['lion', 'tiger', 'leopord']\n",
            "['Lamborghini', 'mini cooper', 'mercedes', 'lexus', 'audi']\n",
            "['food', 'realestate', 'education', 'transporting', 'appliances']\n"
          ]
        }
      ]
    },
    {
      "cell_type": "code",
      "source": [
        "#POP\n",
        "\n",
        "numbers = [69,34,45,67,97,9]\n",
        "fruits = [\"water melon\",\"litchi\",\"mango\",\"grapes\",\"dragon fruit\"]\n",
        "animals = [\"lion\",\"tiger\",\"cheetah\",\"leopord\"]\n",
        "cars = [\"Lamborghini\",\"mini cooper\",\"mercedes\",\"lexus\",\"audi\"]\n",
        "business = [\"food\",\"realestate\",\"education\",\"transporting\",\"appliances\"]\n",
        "\n",
        "numbers.pop(3)\n",
        "fruits.pop(-4)\n",
        "animals.pop(2)\n",
        "cars.pop(-5)\n",
        "business.pop(4)\n",
        "\n",
        "print(numbers)\n",
        "print(fruits)\n",
        "print(animals)\n",
        "print(cars)\n",
        "print(business)\n",
        "\n"
      ],
      "metadata": {
        "colab": {
          "base_uri": "https://localhost:8080/"
        },
        "id": "1lU0odFLeUNp",
        "outputId": "16c94249-4d80-43cf-bc36-d7fd93d32210"
      },
      "execution_count": null,
      "outputs": [
        {
          "output_type": "stream",
          "name": "stdout",
          "text": [
            "[69, 34, 45, 97, 9]\n",
            "['water melon', 'mango', 'grapes', 'dragon fruit']\n",
            "['lion', 'tiger', 'leopord']\n",
            "['mini cooper', 'mercedes', 'lexus', 'audi']\n",
            "['food', 'realestate', 'education', 'transporting']\n"
          ]
        }
      ]
    },
    {
      "cell_type": "code",
      "source": [
        "#INDEX\n",
        "\n",
        "#IT TELLS US ABOUT THE EXACT INDEX VALUE OF THE VARIABLE\n",
        "\n",
        "numbers = [69,34,45,67,97,9]\n",
        "fruits = [\"water melon\",\"litchi\",\"mango\",\"grapes\",\"dragon fruit\"]\n",
        "animals = [\"lion\",\"tiger\",\"cheetah\",\"leopord\"]\n",
        "cars = [\"Lamborghini\",\"mini cooper\",\"mercedes\",\"lexus\",\"audi\"]\n",
        "business = [\"food\",\"realestate\",\"education\",\"transporting\",\"appliances\"]\n",
        "\n",
        "d1=numbers.index(9)\n",
        "d2=fruits.index(\"mango\")\n",
        "d3=animals.index(\"leopord\")\n",
        "d4=cars.index(\"lexus\")\n",
        "d5=business.index(\"transporting\")\n",
        "\n",
        "print(d1)\n",
        "print(d2)\n",
        "print(d3)\n",
        "print(d4)\n",
        "print(d5)\n"
      ],
      "metadata": {
        "colab": {
          "base_uri": "https://localhost:8080/"
        },
        "id": "kYRHN3e6nrQn",
        "outputId": "aae9f90d-8e40-4e1d-905e-c490c65ea1a6"
      },
      "execution_count": null,
      "outputs": [
        {
          "output_type": "stream",
          "name": "stdout",
          "text": [
            "5\n",
            "2\n",
            "3\n",
            "3\n",
            "3\n"
          ]
        }
      ]
    },
    {
      "cell_type": "code",
      "source": [
        "#COUNT\n",
        "\n",
        "#it count's how many times the variable repeats\n",
        "\n",
        "numbers = [69,34,45,67,97,9]\n",
        "fruits = [\"mango\",\"litchi\",\"mango\",\"grapes\",\"mango\"]\n",
        "animals = [\"lion\",\"hiena\",\"cheetah\",\"tiger\"]\n",
        "cars = [\"Lamborghini\",\"mini cooper\",\"mercedes\",\"lexus\",\"audi\",\"lexus\"]\n",
        "\n",
        "d1=numbers.count(9)\n",
        "d2=fruits.count(\"mango\")\n",
        "d3=animals.count(\"hiena\")\n",
        "d4=cars.count(\"lexus\")\n",
        "\n",
        "\n",
        "print(d1)\n",
        "print(d2)\n",
        "print(d3)\n",
        "print(d4)\n"
      ],
      "metadata": {
        "id": "LgAYPl4JNCTs",
        "colab": {
          "base_uri": "https://localhost:8080/"
        },
        "outputId": "2e5444a7-28ac-4cf0-898f-0cd34df53ea4"
      },
      "execution_count": 23,
      "outputs": [
        {
          "output_type": "stream",
          "name": "stdout",
          "text": [
            "1\n",
            "3\n",
            "1\n",
            "2\n"
          ]
        }
      ]
    },
    {
      "cell_type": "code",
      "source": [
        "#SORT\n",
        "\n",
        "#it rearranges the output into ascending order either numbers or alphabets\n",
        "\n",
        "numbers =[20,21,45,99]\n",
        "strings=[\"strawberies\",\"passion\",\"guava\",\"watermelon\"]\n",
        "float=[9.2,24,2.1,17]\n",
        "characters= [\"D\",\"R\",\"N\",\"H\",\"V\",\"S\"]\n",
        "names = [\"hemu\",\"nihith\",\"pavan\",\"rishi\",\"shiva\"]\n",
        "\n",
        "numbers.sort()\n",
        "strings.sort()\n",
        "float.sort()\n",
        "characters.sort()\n",
        "names.sort()\n",
        "\n",
        "print(numbers)\n",
        "print(strings)\n",
        "print(float)\n",
        "print(characters)\n",
        "print(names)"
      ],
      "metadata": {
        "colab": {
          "base_uri": "https://localhost:8080/"
        },
        "id": "yOidGxY1P721",
        "outputId": "d7e1b61c-2515-4104-fbab-ae28f0712b14"
      },
      "execution_count": 25,
      "outputs": [
        {
          "output_type": "stream",
          "name": "stdout",
          "text": [
            "[20, 21, 45, 99]\n",
            "['guava', 'passion', 'strawberies', 'watermelon']\n",
            "[2.1, 9.2, 17, 24]\n",
            "['D', 'H', 'N', 'R', 'S', 'V']\n",
            "['hemu', 'nihith', 'pavan', 'rishi', 'shiva']\n"
          ]
        }
      ]
    },
    {
      "cell_type": "code",
      "source": [
        "characters = [\"h\",\"n\",\"r\",\"d\",\"v\",\"s\"]\n",
        "names = [\"hemu\",\"nihith\",\"raga\",\"ritu\",\"deekshi\",\"rishi\",\"ruttu\"]\n",
        "numbers =[20,21,45,99]\n",
        "strings=[\"strawberies\",\"passion\",\"guava\",\"watermelon\"]\n",
        "float=[9.2,24,2.1,17]\n",
        "\n",
        "characters.reverse()\n",
        "names.reverse()\n",
        "numbers.reverse()\n",
        "strings.reverse()\n",
        "float.reverse()\n",
        "\n",
        "print(characters)\n",
        "print(names)\n",
        "print(numbers)\n",
        "print(strings)\n",
        "print(float)"
      ],
      "metadata": {
        "colab": {
          "base_uri": "https://localhost:8080/"
        },
        "id": "HhxL_do8cFAR",
        "outputId": "d78c4f62-3f4f-482d-821a-5900892aac7f"
      },
      "execution_count": 26,
      "outputs": [
        {
          "output_type": "stream",
          "name": "stdout",
          "text": [
            "['s', 'v', 'd', 'r', 'n', 'h']\n",
            "['ruttu', 'rishi', 'deekshi', 'ritu', 'raga', 'nihith', 'hemu']\n",
            "[99, 45, 21, 20]\n",
            "['watermelon', 'guava', 'passion', 'strawberies']\n",
            "[17, 2.1, 24, 9.2]\n"
          ]
        }
      ]
    },
    {
      "cell_type": "code",
      "source": [],
      "metadata": {
        "id": "vRKEEVw9d0sP"
      },
      "execution_count": null,
      "outputs": []
    }
  ]
}